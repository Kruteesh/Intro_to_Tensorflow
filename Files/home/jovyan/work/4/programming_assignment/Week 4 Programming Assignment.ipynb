{
 "cells": [
  {
   "cell_type": "markdown",
   "metadata": {},
   "source": [
    "# Programming Assignment\n",
    "\n",
    "## Saving and loading models, with application to the EuroSat dataset\n",
    "\n",
    "### Instructions\n",
    "\n",
    "In this notebook, you will create a neural network that classifies land uses and land covers from satellite imagery. You will save your model using Tensorflow's callbacks and reload it later. You will also load in a pre-trained neural network classifier and compare performance with it. \n",
    "\n",
    "Some code cells are provided for you in the notebook. You should avoid editing provided code, and make sure to execute the cells in order to avoid unexpected errors. Some cells begin with the line: \n",
    "\n",
    "`#### GRADED CELL ####`\n",
    "\n",
    "Don't move or edit this first line - this is what the automatic grader looks for to recognise graded cells. These cells require you to write your own code to complete them, and are automatically graded when you submit the notebook. Don't edit the function name or signature provided in these cells, otherwise the automatic grader might not function properly. Inside these graded cells, you can use any functions or classes that are imported below, but make sure you don't use any variables that are outside the scope of the function.\n",
    "\n",
    "### How to submit\n",
    "\n",
    "Complete all the tasks you are asked for in the worksheet. When you have finished and are happy with your code, press the **Submit Assignment** button at the top of this notebook.\n",
    "\n",
    "### Let's get started!\n",
    "\n",
    "We'll start running some imports, and loading the dataset. Do not edit the existing imports in the following cell. If you would like to make further Tensorflow imports, you should add them here."
   ]
  },
  {
   "cell_type": "code",
   "execution_count": 7,
   "metadata": {},
   "outputs": [],
   "source": [
    "#### PACKAGE IMPORTS ####\n",
    "\n",
    "# Run this cell first to import all required packages. Do not make any imports elsewhere in the notebook\n",
    "\n",
    "import tensorflow as tf\n",
    "from tensorflow.keras.preprocessing.image import load_img, img_to_array\n",
    "from tensorflow.keras.models import Sequential, load_model\n",
    "from tensorflow.keras.layers import Dense, Flatten, Conv2D, MaxPooling2D\n",
    "from tensorflow.keras.callbacks import ModelCheckpoint, EarlyStopping\n",
    "import os\n",
    "import numpy as np\n",
    "import pandas as pd\n",
    "\n",
    "# If you would like to make further imports from tensorflow, add them here\n",
    "\n"
   ]
  },
  {
   "cell_type": "markdown",
   "metadata": {},
   "source": [
    "![EuroSAT overview image](data/eurosat_overview.jpg)\n",
    "\n",
    "#### The EuroSAT dataset\n",
    "\n",
    "In this assignment, you will use the [EuroSAT dataset](https://github.com/phelber/EuroSAT). It consists of 27000 labelled Sentinel-2 satellite images of different land uses: residential, industrial, highway, river, forest, pasture, herbaceous vegetation, annual crop, permanent crop and sea/lake. For a reference, see the following papers:\n",
    "- Eurosat: A novel dataset and deep learning benchmark for land use and land cover classification. Patrick Helber, Benjamin Bischke, Andreas Dengel, Damian Borth. IEEE Journal of Selected Topics in Applied Earth Observations and Remote Sensing, 2019.\n",
    "- Introducing EuroSAT: A Novel Dataset and Deep Learning Benchmark for Land Use and Land Cover Classification. Patrick Helber, Benjamin Bischke, Andreas Dengel. 2018 IEEE International Geoscience and Remote Sensing Symposium, 2018.\n",
    "\n",
    "Your goal is to construct a neural network that classifies a satellite image into one of these 10 classes, as well as applying some of the saving and loading techniques you have learned in the previous sessions."
   ]
  },
  {
   "cell_type": "markdown",
   "metadata": {},
   "source": [
    "#### Import the data\n",
    "\n",
    "The dataset you will train your model on is a subset of the total data, with 4000 training images and 1000 testing images, with roughly equal numbers of each class. The code to import the data is provided below."
   ]
  },
  {
   "cell_type": "code",
   "execution_count": 8,
   "metadata": {},
   "outputs": [],
   "source": [
    "# Run this cell to import the Eurosat data\n",
    "\n",
    "def load_eurosat_data():\n",
    "    data_dir = 'data/'\n",
    "    x_train = np.load(os.path.join(data_dir, 'x_train.npy'))\n",
    "    y_train = np.load(os.path.join(data_dir, 'y_train.npy'))\n",
    "    x_test  = np.load(os.path.join(data_dir, 'x_test.npy'))\n",
    "    y_test  = np.load(os.path.join(data_dir, 'y_test.npy'))\n",
    "    return (x_train, y_train), (x_test, y_test)\n",
    "\n",
    "(x_train, y_train), (x_test, y_test) = load_eurosat_data()\n",
    "x_train = x_train / 255.0\n",
    "x_test = x_test / 255.0"
   ]
  },
  {
   "cell_type": "markdown",
   "metadata": {},
   "source": [
    "#### Build the neural network model"
   ]
  },
  {
   "cell_type": "markdown",
   "metadata": {},
   "source": [
    "You can now construct a model to fit to the data. Using the Sequential API, build your model according to the following specifications:\n",
    "\n",
    "* The model should use the input_shape in the function argument to set the input size in the first layer.\n",
    "* The first layer should be a Conv2D layer with 16 filters, a 3x3 kernel size, a ReLU activation function and 'SAME' padding. Name this layer 'conv_1'.\n",
    "* The second layer should also be a Conv2D layer with 8 filters, a 3x3 kernel size, a ReLU activation function and 'SAME' padding. Name this layer 'conv_2'.\n",
    "* The third layer should be a MaxPooling2D layer with a pooling window size of 8x8. Name this layer 'pool_1'.\n",
    "* The fourth layer should be a Flatten layer, named 'flatten'.\n",
    "* The fifth layer should be a Dense layer with 32 units, a ReLU activation. Name this layer 'dense_1'.\n",
    "* The sixth and final layer should be a Dense layer with 10 units and softmax activation. Name this layer 'dense_2'.\n",
    "\n",
    "In total, the network should have 6 layers."
   ]
  },
  {
   "cell_type": "code",
   "execution_count": 20,
   "metadata": {},
   "outputs": [],
   "source": [
    "#### GRADED CELL ####\n",
    "\n",
    "# Complete the following function. \n",
    "# Make sure to not change the function name or arguments.\n",
    "\n",
    "from sklearn import metrics\n",
    "\n",
    "\n",
    "def get_new_model(input_shape):\n",
    "    \"\"\"\n",
    "    This function should build a Sequential model according to the above specification. Ensure the \n",
    "    weights are initialised by providing the input_shape argument in the first layer, given by the\n",
    "    function argument.\n",
    "    Your function should also compile the model with the Adam optimiser, sparse categorical cross\n",
    "    entropy loss function, and a single accuracy metric.\n",
    "    \"\"\"\n",
    "    model = Sequential([\n",
    "        Conv2D(16,(3,3), activation='relu', input_shape=input_shape, name='conv_1', padding ='SAME'),\n",
    "        Conv2D(8,(3,3), activation='relu', name='conv_2', padding='SAME'),\n",
    "        MaxPooling2D((8,8), name='pool_1'),\n",
    "        Flatten(name='flatten'),\n",
    "        Dense(32, activation='relu', name='dense_1'),\n",
    "        Dense(10, activation='softmax', name='dense_2')\n",
    "    ])\n",
    "    model.compile(optimizer='adam', loss='sparse_categorical_crossentropy', metrics=['accuracy'])\n",
    "    return model\n",
    "    "
   ]
  },
  {
   "cell_type": "markdown",
   "metadata": {},
   "source": [
    "#### Compile and evaluate the model"
   ]
  },
  {
   "cell_type": "code",
   "execution_count": 21,
   "metadata": {},
   "outputs": [],
   "source": [
    "# Run your function to create the model\n",
    "\n",
    "model = get_new_model(x_train[0].shape)"
   ]
  },
  {
   "cell_type": "code",
   "execution_count": 22,
   "metadata": {},
   "outputs": [
    {
     "data": {
      "text/plain": [
       "(4000, 64, 64, 3)"
      ]
     },
     "execution_count": 22,
     "metadata": {},
     "output_type": "execute_result"
    }
   ],
   "source": [
    "x_train.shape"
   ]
  },
  {
   "cell_type": "code",
   "execution_count": 23,
   "metadata": {},
   "outputs": [],
   "source": [
    "# Run this cell to define a function to evaluate a model's test accuracy\n",
    "\n",
    "def get_test_accuracy(model, x_test, y_test):\n",
    "    \"\"\"Test model classification accuracy\"\"\"\n",
    "    test_loss, test_acc = model.evaluate(x=x_test, y=y_test, verbose=0)\n",
    "    print('accuracy: {acc:0.3f}'.format(acc=test_acc))"
   ]
  },
  {
   "cell_type": "code",
   "execution_count": 24,
   "metadata": {},
   "outputs": [
    {
     "name": "stdout",
     "output_type": "stream",
     "text": [
      "Model: \"sequential_2\"\n",
      "_________________________________________________________________\n",
      " Layer (type)                Output Shape              Param #   \n",
      "=================================================================\n",
      " conv_1 (Conv2D)             (None, 64, 64, 16)        448       \n",
      "                                                                 \n",
      " conv_2 (Conv2D)             (None, 64, 64, 8)         1160      \n",
      "                                                                 \n",
      " pool_1 (MaxPooling2D)       (None, 8, 8, 8)           0         \n",
      "                                                                 \n",
      " flatten (Flatten)           (None, 512)               0         \n",
      "                                                                 \n",
      " dense_1 (Dense)             (None, 32)                16416     \n",
      "                                                                 \n",
      " dense_2 (Dense)             (None, 10)                330       \n",
      "                                                                 \n",
      "=================================================================\n",
      "Total params: 18,354\n",
      "Trainable params: 18,354\n",
      "Non-trainable params: 0\n",
      "_________________________________________________________________\n",
      "accuracy: 0.098\n"
     ]
    }
   ],
   "source": [
    "# Print the model summary and calculate its initialised test accuracy\n",
    "\n",
    "model.summary()\n",
    "get_test_accuracy(model, x_test, y_test)"
   ]
  },
  {
   "cell_type": "markdown",
   "metadata": {},
   "source": [
    "#### Create checkpoints to save model during training, with a criterion\n",
    "\n",
    "You will now create three callbacks:\n",
    "- `checkpoint_every_epoch`: checkpoint that saves the model weights every epoch during training\n",
    "- `checkpoint_best_only`: checkpoint that saves only the weights with the highest validation accuracy. Use the testing data as the validation data.\n",
    "- `early_stopping`: early stopping object that ends training if the validation accuracy has not improved in 3 epochs."
   ]
  },
  {
   "cell_type": "code",
   "execution_count": 25,
   "metadata": {},
   "outputs": [],
   "source": [
    "#### GRADED CELL ####\n",
    "\n",
    "# Complete the following functions. \n",
    "# Make sure to not change the function names or arguments.\n",
    "\n",
    "\n",
    "\n",
    "def get_checkpoint_every_epoch():\n",
    "    \"\"\"\n",
    "    This function should return a ModelCheckpoint object that:\n",
    "    - saves the weights only at the end of every epoch\n",
    "    - saves into a directory called 'checkpoints_every_epoch' inside the current working directory\n",
    "    - generates filenames in that directory like 'checkpoint_XXX' where\n",
    "      XXX is the epoch number formatted to have three digits, e.g. 001, 002, 003, etc.\n",
    "    \"\"\"\n",
    "    checkpoint_every_epoch_path = 'checkpoints_every_epoch/checkpoint_{epoch:03d}'\n",
    "    checkpoint_epoch = ModelCheckpoint(checkpoint_every_epoch_path, save_weights_only=True, save_freq='epoch' )\n",
    "    return checkpoint_epoch\n",
    "    \n",
    "\n",
    "\n",
    "def get_checkpoint_best_only():\n",
    "    \"\"\"\n",
    "    This function should return a ModelCheckpoint object that:\n",
    "    - saves only the weights that generate the highest validation (testing) accuracy\n",
    "    - saves into a directory called 'checkpoints_best_only' inside the current working directory\n",
    "    - generates a file called 'checkpoints_best_only/checkpoint' \n",
    "    \"\"\"\n",
    "    checkpoint_best_path = 'checkpoints_best_only/checkpoint'\n",
    "    checkpoint_best = ModelCheckpoint(checkpoint_best_path, save_weights_only=True,save_freq='epoch',save_best_only=True, monitor='val_accuracy', verbose=1 )\n",
    "    return checkpoint_best\n",
    "    \n",
    "    "
   ]
  },
  {
   "cell_type": "code",
   "execution_count": 26,
   "metadata": {},
   "outputs": [],
   "source": [
    "#### GRADED CELL ####\n",
    "\n",
    "# Complete the following function. \n",
    "# Make sure to not change the function name or arguments.\n",
    "\n",
    "def get_early_stopping():\n",
    "    \"\"\"\n",
    "    This function should return an EarlyStopping callback that stops training when\n",
    "    the validation (testing) accuracy has not improved in the last 3 epochs.\n",
    "    HINT: use the EarlyStopping callback with the correct 'monitor' and 'patience'\n",
    "    \"\"\"\n",
    "    earlystopping = EarlyStopping(monitor='val_accuracy', patience=3)\n",
    "    return earlystopping\n",
    "    \n",
    "    "
   ]
  },
  {
   "cell_type": "code",
   "execution_count": 27,
   "metadata": {},
   "outputs": [],
   "source": [
    "# Run this cell to create the callbacks\n",
    "\n",
    "checkpoint_every_epoch = get_checkpoint_every_epoch()\n",
    "checkpoint_best_only = get_checkpoint_best_only()\n",
    "early_stopping = get_early_stopping()"
   ]
  },
  {
   "cell_type": "markdown",
   "metadata": {},
   "source": [
    "#### Train model using the callbacks\n",
    "\n",
    "Now, you will train the model using the three callbacks you created. If you created the callbacks correctly, three things should happen:\n",
    "- At the end of every epoch, the model weights are saved into a directory called `checkpoints_every_epoch`\n",
    "- At the end of every epoch, the model weights are saved into a directory called `checkpoints_best_only` **only** if those weights lead to the highest test accuracy\n",
    "- Training stops when the testing accuracy has not improved in three epochs.\n",
    "\n",
    "You should then have two directories:\n",
    "- A directory called `checkpoints_every_epoch` containing filenames that include `checkpoint_001`, `checkpoint_002`, etc with the `001`, `002` corresponding to the epoch\n",
    "- A directory called `checkpoints_best_only` containing filenames that include `checkpoint`, which contain only the weights leading to the highest testing accuracy"
   ]
  },
  {
   "cell_type": "code",
   "execution_count": 28,
   "metadata": {},
   "outputs": [
    {
     "name": "stdout",
     "output_type": "stream",
     "text": [
      "Epoch 1/50\n",
      "125/125 [==============================] - ETA: 0s - loss: 1.8411 - accuracy: 0.3250\n",
      "Epoch 1: val_accuracy improved from -inf to 0.38600, saving model to chekcpoints_best_only\\checkpoint\n",
      "125/125 [==============================] - 8s 56ms/step - loss: 1.8411 - accuracy: 0.3250 - val_loss: 1.5919 - val_accuracy: 0.3860\n",
      "Epoch 2/50\n",
      "125/125 [==============================] - ETA: 0s - loss: 1.4664 - accuracy: 0.4275\n",
      "Epoch 2: val_accuracy improved from 0.38600 to 0.41900, saving model to chekcpoints_best_only\\checkpoint\n",
      "125/125 [==============================] - 14s 116ms/step - loss: 1.4664 - accuracy: 0.4275 - val_loss: 1.4209 - val_accuracy: 0.4190\n",
      "Epoch 3/50\n",
      "125/125 [==============================] - ETA: 0s - loss: 1.3399 - accuracy: 0.4672\n",
      "Epoch 3: val_accuracy improved from 0.41900 to 0.46800, saving model to chekcpoints_best_only\\checkpoint\n",
      "125/125 [==============================] - 15s 118ms/step - loss: 1.3399 - accuracy: 0.4672 - val_loss: 1.3178 - val_accuracy: 0.4680\n",
      "Epoch 4/50\n",
      "125/125 [==============================] - ETA: 0s - loss: 1.2635 - accuracy: 0.5025\n",
      "Epoch 4: val_accuracy did not improve from 0.46800\n",
      "125/125 [==============================] - 15s 116ms/step - loss: 1.2635 - accuracy: 0.5025 - val_loss: 1.2788 - val_accuracy: 0.4680\n",
      "Epoch 5/50\n",
      "125/125 [==============================] - ETA: 0s - loss: 1.2077 - accuracy: 0.5418\n",
      "Epoch 5: val_accuracy improved from 0.46800 to 0.54500, saving model to chekcpoints_best_only\\checkpoint\n",
      "125/125 [==============================] - 15s 117ms/step - loss: 1.2077 - accuracy: 0.5418 - val_loss: 1.1974 - val_accuracy: 0.5450\n",
      "Epoch 6/50\n",
      "125/125 [==============================] - ETA: 0s - loss: 1.1363 - accuracy: 0.5785\n",
      "Epoch 6: val_accuracy did not improve from 0.54500\n",
      "125/125 [==============================] - 15s 117ms/step - loss: 1.1363 - accuracy: 0.5785 - val_loss: 1.1872 - val_accuracy: 0.5340\n",
      "Epoch 7/50\n",
      "125/125 [==============================] - ETA: 0s - loss: 1.0845 - accuracy: 0.6012\n",
      "Epoch 7: val_accuracy improved from 0.54500 to 0.59100, saving model to chekcpoints_best_only\\checkpoint\n",
      "125/125 [==============================] - 15s 120ms/step - loss: 1.0845 - accuracy: 0.6012 - val_loss: 1.1071 - val_accuracy: 0.5910\n",
      "Epoch 8/50\n",
      "125/125 [==============================] - ETA: 0s - loss: 1.0315 - accuracy: 0.6267\n",
      "Epoch 8: val_accuracy did not improve from 0.59100\n",
      "125/125 [==============================] - 15s 122ms/step - loss: 1.0315 - accuracy: 0.6267 - val_loss: 1.1494 - val_accuracy: 0.5750\n",
      "Epoch 9/50\n",
      "125/125 [==============================] - ETA: 0s - loss: 0.9808 - accuracy: 0.6447\n",
      "Epoch 9: val_accuracy improved from 0.59100 to 0.64500, saving model to chekcpoints_best_only\\checkpoint\n",
      "125/125 [==============================] - 16s 127ms/step - loss: 0.9808 - accuracy: 0.6447 - val_loss: 1.0096 - val_accuracy: 0.6450\n",
      "Epoch 10/50\n",
      "125/125 [==============================] - ETA: 0s - loss: 0.9597 - accuracy: 0.6535\n",
      "Epoch 10: val_accuracy did not improve from 0.64500\n",
      "125/125 [==============================] - 17s 133ms/step - loss: 0.9597 - accuracy: 0.6535 - val_loss: 0.9867 - val_accuracy: 0.6440\n",
      "Epoch 11/50\n",
      "125/125 [==============================] - ETA: 0s - loss: 0.9116 - accuracy: 0.6793\n",
      "Epoch 11: val_accuracy improved from 0.64500 to 0.65800, saving model to chekcpoints_best_only\\checkpoint\n",
      "125/125 [==============================] - 16s 128ms/step - loss: 0.9116 - accuracy: 0.6793 - val_loss: 0.9519 - val_accuracy: 0.6580\n",
      "Epoch 12/50\n",
      "125/125 [==============================] - ETA: 0s - loss: 0.8520 - accuracy: 0.6980\n",
      "Epoch 12: val_accuracy improved from 0.65800 to 0.66600, saving model to chekcpoints_best_only\\checkpoint\n",
      "125/125 [==============================] - 17s 133ms/step - loss: 0.8520 - accuracy: 0.6980 - val_loss: 0.9070 - val_accuracy: 0.6660\n",
      "Epoch 13/50\n",
      "125/125 [==============================] - ETA: 0s - loss: 0.8509 - accuracy: 0.6945\n",
      "Epoch 13: val_accuracy improved from 0.66600 to 0.69200, saving model to chekcpoints_best_only\\checkpoint\n",
      "125/125 [==============================] - 16s 124ms/step - loss: 0.8509 - accuracy: 0.6945 - val_loss: 0.9004 - val_accuracy: 0.6920\n",
      "Epoch 14/50\n",
      "125/125 [==============================] - ETA: 0s - loss: 0.7938 - accuracy: 0.7193\n",
      "Epoch 14: val_accuracy did not improve from 0.69200\n",
      "125/125 [==============================] - 15s 124ms/step - loss: 0.7938 - accuracy: 0.7193 - val_loss: 0.9043 - val_accuracy: 0.6640\n",
      "Epoch 15/50\n",
      "125/125 [==============================] - ETA: 0s - loss: 0.7702 - accuracy: 0.7172\n",
      "Epoch 15: val_accuracy did not improve from 0.69200\n",
      "125/125 [==============================] - 14s 113ms/step - loss: 0.7702 - accuracy: 0.7172 - val_loss: 0.9175 - val_accuracy: 0.6540\n",
      "Epoch 16/50\n",
      "125/125 [==============================] - ETA: 0s - loss: 0.7368 - accuracy: 0.7385\n",
      "Epoch 16: val_accuracy improved from 0.69200 to 0.69300, saving model to chekcpoints_best_only\\checkpoint\n",
      "125/125 [==============================] - 16s 125ms/step - loss: 0.7368 - accuracy: 0.7385 - val_loss: 0.7974 - val_accuracy: 0.6930\n",
      "Epoch 17/50\n",
      "125/125 [==============================] - ETA: 0s - loss: 0.7426 - accuracy: 0.7362\n",
      "Epoch 17: val_accuracy did not improve from 0.69300\n",
      "125/125 [==============================] - 16s 126ms/step - loss: 0.7426 - accuracy: 0.7362 - val_loss: 0.8209 - val_accuracy: 0.6920\n",
      "Epoch 18/50\n",
      "125/125 [==============================] - ETA: 0s - loss: 0.7119 - accuracy: 0.7440\n",
      "Epoch 18: val_accuracy did not improve from 0.69300\n",
      "125/125 [==============================] - 16s 127ms/step - loss: 0.7119 - accuracy: 0.7440 - val_loss: 0.8556 - val_accuracy: 0.6810\n",
      "Epoch 19/50\n",
      "125/125 [==============================] - ETA: 0s - loss: 0.6816 - accuracy: 0.7515\n",
      "Epoch 19: val_accuracy improved from 0.69300 to 0.70700, saving model to chekcpoints_best_only\\checkpoint\n",
      "125/125 [==============================] - 16s 129ms/step - loss: 0.6816 - accuracy: 0.7515 - val_loss: 0.7675 - val_accuracy: 0.7070\n",
      "Epoch 20/50\n",
      "125/125 [==============================] - ETA: 0s - loss: 0.6633 - accuracy: 0.7625\n",
      "Epoch 20: val_accuracy did not improve from 0.70700\n",
      "125/125 [==============================] - 16s 126ms/step - loss: 0.6633 - accuracy: 0.7625 - val_loss: 0.8353 - val_accuracy: 0.6830\n",
      "Epoch 21/50\n",
      "125/125 [==============================] - ETA: 0s - loss: 0.6461 - accuracy: 0.7628\n",
      "Epoch 21: val_accuracy improved from 0.70700 to 0.71600, saving model to chekcpoints_best_only\\checkpoint\n",
      "125/125 [==============================] - 21s 164ms/step - loss: 0.6461 - accuracy: 0.7628 - val_loss: 0.7458 - val_accuracy: 0.7160\n",
      "Epoch 22/50\n",
      "125/125 [==============================] - ETA: 0s - loss: 0.6338 - accuracy: 0.7722\n",
      "Epoch 22: val_accuracy did not improve from 0.71600\n",
      "125/125 [==============================] - 16s 128ms/step - loss: 0.6338 - accuracy: 0.7722 - val_loss: 0.7531 - val_accuracy: 0.7080\n",
      "Epoch 23/50\n",
      "125/125 [==============================] - ETA: 0s - loss: 0.6319 - accuracy: 0.7717\n",
      "Epoch 23: val_accuracy improved from 0.71600 to 0.71900, saving model to chekcpoints_best_only\\checkpoint\n",
      "125/125 [==============================] - 16s 126ms/step - loss: 0.6319 - accuracy: 0.7717 - val_loss: 0.7614 - val_accuracy: 0.7190\n",
      "Epoch 24/50\n",
      "125/125 [==============================] - ETA: 0s - loss: 0.6062 - accuracy: 0.7732\n",
      "Epoch 24: val_accuracy improved from 0.71900 to 0.73400, saving model to chekcpoints_best_only\\checkpoint\n",
      "125/125 [==============================] - 16s 124ms/step - loss: 0.6062 - accuracy: 0.7732 - val_loss: 0.7132 - val_accuracy: 0.7340\n",
      "Epoch 25/50\n",
      "125/125 [==============================] - ETA: 0s - loss: 0.6067 - accuracy: 0.7845\n",
      "Epoch 25: val_accuracy did not improve from 0.73400\n",
      "125/125 [==============================] - 16s 126ms/step - loss: 0.6067 - accuracy: 0.7845 - val_loss: 0.7313 - val_accuracy: 0.7280\n",
      "Epoch 26/50\n",
      "125/125 [==============================] - ETA: 0s - loss: 0.5923 - accuracy: 0.7810\n",
      "Epoch 26: val_accuracy did not improve from 0.73400\n",
      "125/125 [==============================] - 16s 124ms/step - loss: 0.5923 - accuracy: 0.7810 - val_loss: 0.7389 - val_accuracy: 0.7280\n",
      "Epoch 27/50\n",
      "125/125 [==============================] - ETA: 0s - loss: 0.5736 - accuracy: 0.7935\n",
      "Epoch 27: val_accuracy did not improve from 0.73400\n",
      "125/125 [==============================] - 16s 126ms/step - loss: 0.5736 - accuracy: 0.7935 - val_loss: 0.7931 - val_accuracy: 0.7030\n"
     ]
    },
    {
     "data": {
      "text/plain": [
       "<keras.callbacks.History at 0x1ca41f2ae88>"
      ]
     },
     "execution_count": 28,
     "metadata": {},
     "output_type": "execute_result"
    }
   ],
   "source": [
    "# Train model using the callbacks you just created\n",
    "\n",
    "callbacks = [checkpoint_every_epoch, checkpoint_best_only, early_stopping]\n",
    "model.fit(x_train, y_train, epochs=50, validation_data=(x_test, y_test), callbacks=callbacks)"
   ]
  },
  {
   "cell_type": "markdown",
   "metadata": {},
   "source": [
    "#### Create new instance of model and load on both sets of weights\n",
    "\n",
    "Now you will use the weights you just saved in a fresh model. You should create two functions, both of which take a freshly instantiated model instance:\n",
    "- `model_last_epoch` should contain the weights from the latest saved epoch\n",
    "- `model_best_epoch` should contain the weights from the saved epoch with the highest testing accuracy\n",
    "\n",
    "_Hint: use the_ `tf.train.latest_checkpoint` _function to get the filename of the latest saved checkpoint file. Check the docs_ [_here_](https://www.tensorflow.org/api_docs/python/tf/train/latest_checkpoint)."
   ]
  },
  {
   "cell_type": "code",
   "execution_count": 30,
   "metadata": {},
   "outputs": [],
   "source": [
    "#### GRADED CELL ####\n",
    "\n",
    "# Complete the following functions. \n",
    "# Make sure to not change the function name or arguments.\n",
    "\n",
    "def get_model_last_epoch(model):\n",
    "    \"\"\"\n",
    "    This function should create a new instance of the CNN you created earlier,\n",
    "    load on the weights from the last training epoch, and return this model.\n",
    "    \"\"\"\n",
    "    new_model = model\n",
    "    latest_checkpoint_path = tf.train.latest_checkpoint(checkpoint_dir='checkpoints_every_epoch', latest_filename=None)\n",
    "    new_model.load_weights(latest_checkpoint_path)\n",
    "    return new_model\n",
    "    \n",
    "    \n",
    "    \n",
    "    \n",
    "def get_model_best_epoch(model):\n",
    "    \"\"\"\n",
    "    This function should create a new instance of the CNN you created earlier, load \n",
    "    on the weights leading to the highest validation accuracy, and return this model.\n",
    "    \"\"\"\n",
    "    new_model = model\n",
    "    new_model.load_weights('checkpoints_best_only/checkpoint')\n",
    "    return new_model\n",
    "    \n",
    "    "
   ]
  },
  {
   "cell_type": "code",
   "execution_count": 31,
   "metadata": {},
   "outputs": [
    {
     "name": "stdout",
     "output_type": "stream",
     "text": [
      "Model with last epoch weights:\n",
      "accuracy: 0.703\n",
      "\n",
      "Model with best epoch weights:\n",
      "accuracy: 0.734\n"
     ]
    }
   ],
   "source": [
    "# Run this cell to create two models: one with the weights from the last training\n",
    "# epoch, and one with the weights leading to the highest validation (testing) accuracy.\n",
    "# Verify that the second has a higher validation (testing) accuarcy.\n",
    "\n",
    "model_last_epoch = get_model_last_epoch(get_new_model(x_train[0].shape))\n",
    "model_best_epoch = get_model_best_epoch(get_new_model(x_train[0].shape))\n",
    "print('Model with last epoch weights:')\n",
    "get_test_accuracy(model_last_epoch, x_test, y_test)\n",
    "print('')\n",
    "print('Model with best epoch weights:')\n",
    "get_test_accuracy(model_best_epoch, x_test, y_test)"
   ]
  },
  {
   "cell_type": "markdown",
   "metadata": {},
   "source": [
    "#### Load, from scratch, a model trained on the EuroSat dataset.\n",
    "\n",
    "In your workspace, you will find another model trained on the `EuroSAT` dataset in `.h5` format. This model is trained on a larger subset of the EuroSAT dataset and has a more complex architecture. The path to the model is `models/EuroSatNet.h5`. See how its testing accuracy compares to your model!"
   ]
  },
  {
   "cell_type": "code",
   "execution_count": 36,
   "metadata": {},
   "outputs": [],
   "source": [
    "#### GRADED CELL ####\n",
    "\n",
    "# Complete the following functions. \n",
    "# Make sure to not change the function name or arguments.\n",
    "\n",
    "def get_model_eurosatnet():\n",
    "    \"\"\"\n",
    "    This function should return the pretrained EuroSatNet.h5 model.\n",
    "    \"\"\"\n",
    "    eurosat_model_path = 'models/EuroSatNet.h5'\n",
    "    model = load_model(eurosat_model_path)\n",
    "    return model\n",
    "    \n",
    "    "
   ]
  },
  {
   "cell_type": "code",
   "execution_count": 37,
   "metadata": {},
   "outputs": [
    {
     "name": "stdout",
     "output_type": "stream",
     "text": [
      "Model: \"sequential_21\"\n",
      "_________________________________________________________________\n",
      " Layer (type)                Output Shape              Param #   \n",
      "=================================================================\n",
      " conv_1 (Conv2D)             (None, 64, 64, 16)        448       \n",
      "                                                                 \n",
      " conv_2 (Conv2D)             (None, 64, 64, 16)        6416      \n",
      "                                                                 \n",
      " pool_1 (MaxPooling2D)       (None, 32, 32, 16)        0         \n",
      "                                                                 \n",
      " conv_3 (Conv2D)             (None, 32, 32, 16)        2320      \n",
      "                                                                 \n",
      " conv_4 (Conv2D)             (None, 32, 32, 16)        6416      \n",
      "                                                                 \n",
      " pool_2 (MaxPooling2D)       (None, 16, 16, 16)        0         \n",
      "                                                                 \n",
      " conv_5 (Conv2D)             (None, 16, 16, 16)        2320      \n",
      "                                                                 \n",
      " conv_6 (Conv2D)             (None, 16, 16, 16)        6416      \n",
      "                                                                 \n",
      " pool_3 (MaxPooling2D)       (None, 8, 8, 16)          0         \n",
      "                                                                 \n",
      " conv_7 (Conv2D)             (None, 8, 8, 16)          2320      \n",
      "                                                                 \n",
      " conv_8 (Conv2D)             (None, 8, 8, 16)          6416      \n",
      "                                                                 \n",
      " pool_4 (MaxPooling2D)       (None, 4, 4, 16)          0         \n",
      "                                                                 \n",
      " flatten (Flatten)           (None, 256)               0         \n",
      "                                                                 \n",
      " dense_1 (Dense)             (None, 32)                8224      \n",
      "                                                                 \n",
      " dense_2 (Dense)             (None, 10)                330       \n",
      "                                                                 \n",
      "=================================================================\n",
      "Total params: 41,626\n",
      "Trainable params: 41,626\n",
      "Non-trainable params: 0\n",
      "_________________________________________________________________\n",
      "accuracy: 0.080\n"
     ]
    }
   ],
   "source": [
    "# Run this cell to print a summary of the EuroSatNet model, along with its validation accuracy.\n",
    "\n",
    "model_eurosatnet = get_model_eurosatnet()\n",
    "model_eurosatnet.summary()\n",
    "get_test_accuracy(model_eurosatnet, x_test, y_test)"
   ]
  },
  {
   "cell_type": "markdown",
   "metadata": {},
   "source": [
    "Congratulations for completing this programming assignment! You're now ready to move on to the capstone project for this course."
   ]
  }
 ],
 "metadata": {
  "coursera": {
   "course_slug": "tensor-flow-2-1",
   "graded_item_id": "JaRY0",
   "launcher_item_id": "mJ8fg"
  },
  "kernelspec": {
   "display_name": "Python 3",
   "language": "python",
   "name": "python3"
  },
  "language_info": {
   "codemirror_mode": {
    "name": "ipython",
    "version": 3
   },
   "file_extension": ".py",
   "mimetype": "text/x-python",
   "name": "python",
   "nbconvert_exporter": "python",
   "pygments_lexer": "ipython3",
   "version": "3.7.12"
  }
 },
 "nbformat": 4,
 "nbformat_minor": 2
}
